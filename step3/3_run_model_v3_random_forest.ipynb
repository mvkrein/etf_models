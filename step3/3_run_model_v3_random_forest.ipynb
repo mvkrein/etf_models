{
 "cells": [
  {
   "cell_type": "code",
   "execution_count": 10,
   "metadata": {},
   "outputs": [],
   "source": [
    "import pandas as pd\n",
    "import numpy as np\n",
    "import os\n",
    "import sklearn\n",
    "import matplotlib.pyplot as plt\n",
    "from sklearn.tree import DecisionTreeClassifier\n",
    "from sklearn.model_selection import train_test_split\n",
    "from sklearn.model_selection import cross_val_score\n",
    "from sklearn.model_selection import GridSearchCV\n",
    "from sklearn.linear_model import LogisticRegression\n",
    "from sklearn.ensemble import RandomForestClassifier\n",
    "from sklearn.ensemble import RandomForestRegressor\n",
    "from sklearn.metrics import confusion_matrix\n",
    "from sklearn.metrics import accuracy_score\n",
    "from sklearn.metrics import roc_auc_score\n",
    "from sklearn.metrics import classification_report\n",
    "import xgboost\n",
    "from xgboost import XGBClassifier\n",
    "%matplotlib notebook"
   ]
  },
  {
   "cell_type": "code",
   "execution_count": 11,
   "metadata": {},
   "outputs": [],
   "source": [
    "pd.set_option('display.max_rows', 100)\n",
    "pd.set_option('display.max_columns', 500)\n",
    "pd.set_option('display.width', 500)\n",
    "pd.options.mode.chained_assignment = None  # default='warn'"
   ]
  },
  {
   "cell_type": "code",
   "execution_count": 12,
   "metadata": {},
   "outputs": [],
   "source": [
    "data_path = '/home/mvkrein/etf_model/data'\n",
    "etf_data_file = os.path.join(data_path,'etf_new_var_20180910.csv')\n",
    "etf_data = pd.read_csv(etf_data_file,index_col=0)"
   ]
  },
  {
   "cell_type": "code",
   "execution_count": 13,
   "metadata": {},
   "outputs": [],
   "source": [
    "etf_data_20140106 = etf_data.loc[etf_data['Date']=='2014-01-06',['Date','sym','rank_p_L-21','delta_p_L-21','ivv_delta_p_L-21','target']]"
   ]
  },
  {
   "cell_type": "code",
   "execution_count": 14,
   "metadata": {},
   "outputs": [],
   "source": [
    "etf_data_20140106.sort_values(['delta_p_L-21'],ascending=False,inplace=True)"
   ]
  },
  {
   "cell_type": "code",
   "execution_count": 15,
   "metadata": {},
   "outputs": [
    {
     "data": {
      "text/html": [
       "<div>\n",
       "<table border=\"1\" class=\"dataframe\">\n",
       "  <thead>\n",
       "    <tr style=\"text-align: right;\">\n",
       "      <th></th>\n",
       "      <th>Date</th>\n",
       "      <th>sym</th>\n",
       "      <th>rank_p_L-21</th>\n",
       "      <th>delta_p_L-21</th>\n",
       "      <th>ivv_delta_p_L-21</th>\n",
       "      <th>target</th>\n",
       "    </tr>\n",
       "  </thead>\n",
       "  <tbody>\n",
       "    <tr>\n",
       "      <th>77209</th>\n",
       "      <td>2014-01-06</td>\n",
       "      <td>ILF</td>\n",
       "      <td>0.032680</td>\n",
       "      <td>-0.081157</td>\n",
       "      <td>-0.039743</td>\n",
       "      <td>0</td>\n",
       "    </tr>\n",
       "    <tr>\n",
       "      <th>77166</th>\n",
       "      <td>2014-01-06</td>\n",
       "      <td>EWZ</td>\n",
       "      <td>0.026144</td>\n",
       "      <td>-0.089469</td>\n",
       "      <td>-0.039743</td>\n",
       "      <td>0</td>\n",
       "    </tr>\n",
       "    <tr>\n",
       "      <th>77260</th>\n",
       "      <td>2014-01-06</td>\n",
       "      <td>TUR</td>\n",
       "      <td>0.019608</td>\n",
       "      <td>-0.102258</td>\n",
       "      <td>-0.039743</td>\n",
       "      <td>0</td>\n",
       "    </tr>\n",
       "    <tr>\n",
       "      <th>77167</th>\n",
       "      <td>2014-01-06</td>\n",
       "      <td>EWZS</td>\n",
       "      <td>0.013072</td>\n",
       "      <td>-0.104508</td>\n",
       "      <td>-0.039743</td>\n",
       "      <td>0</td>\n",
       "    </tr>\n",
       "    <tr>\n",
       "      <th>77126</th>\n",
       "      <td>2014-01-06</td>\n",
       "      <td>ECH</td>\n",
       "      <td>0.006536</td>\n",
       "      <td>-0.120288</td>\n",
       "      <td>-0.039743</td>\n",
       "      <td>0</td>\n",
       "    </tr>\n",
       "  </tbody>\n",
       "</table>\n",
       "</div>"
      ],
      "text/plain": [
       "             Date   sym  rank_p_L-21  delta_p_L-21  ivv_delta_p_L-21  target\n",
       "77209  2014-01-06   ILF     0.032680     -0.081157         -0.039743       0\n",
       "77166  2014-01-06   EWZ     0.026144     -0.089469         -0.039743       0\n",
       "77260  2014-01-06   TUR     0.019608     -0.102258         -0.039743       0\n",
       "77167  2014-01-06  EWZS     0.013072     -0.104508         -0.039743       0\n",
       "77126  2014-01-06   ECH     0.006536     -0.120288         -0.039743       0"
      ]
     },
     "execution_count": 15,
     "metadata": {},
     "output_type": "execute_result"
    }
   ],
   "source": [
    "etf_data_20140106.tail(5)"
   ]
  },
  {
   "cell_type": "code",
   "execution_count": 16,
   "metadata": {},
   "outputs": [],
   "source": [
    "etf_study_file = os.path.join(data_path,'ETF_list_min_6yr_history.csv')\n",
    "etf_list = pd.read_csv(etf_study_file,index_col=0)\n",
    "etf_data.sort_values(['Date','sym'],ascending=True,inplace=True)\n",
    "etf_data.reset_index(drop=True,inplace=True)"
   ]
  },
  {
   "cell_type": "code",
   "execution_count": 17,
   "metadata": {},
   "outputs": [],
   "source": [
    "drop_columns = ['Date','sym','p', 'v', 'p_L05', 'v_L05', 'p_L10', 'v_L10', 'p_L21', 'v_L21', 'p_L42', 'v_L42', 'p_L63', \\\n",
    "                'v_L63', 'p_L84', 'v_L84', 'p_L126', 'v_L126', 'p_L189', 'v_L189', 'p_L252', 'v_L252',\\\n",
    "                'p_L-21', 'v_L-21', 'delta_p_L05', 'delta_p_L10', 'delta_p_L21', 'delta_p_L42', 'delta_p_L63', \\\n",
    "                'delta_p_L84', 'delta_p_L126', 'delta_p_L189', 'delta_p_L252', 'delta_p_L-21', 'delta_v_L05',\\\n",
    "                'delta_v_L10', 'delta_v_L21', 'delta_v_L42', 'delta_v_L63', 'delta_v_L84', 'delta_v_L126', \\\n",
    "                'delta_v_L189', 'delta_v_L252','rank_p_L-21', 'ivv_delta_p_L-21', 'target']\n",
    "\n",
    "rank_col = ['rank_p_L05','rank_p_L10','rank_p_L21','rank_p_L42',\\\n",
    "            'rank_p_L63','rank_p_L84','rank_p_L126','rank_p_L189','rank_p_L252']"
   ]
  },
  {
   "cell_type": "code",
   "execution_count": 18,
   "metadata": {},
   "outputs": [],
   "source": [
    "all_columns = list(etf_data.columns)"
   ]
  },
  {
   "cell_type": "code",
   "execution_count": 19,
   "metadata": {
    "scrolled": true
   },
   "outputs": [],
   "source": [
    "include_columns = [x for x in all_columns if x not in drop_columns]\n",
    "# include_columns = ['rank_p_L05','rank_p_L10','rank_p_L21','rank_p_L42',\\\n",
    "#             'rank_p_L63','rank_p_L84','rank_p_L126','rank_p_L189','rank_p_L252']\n",
    "# include_columns = ['rank_p_L05','rank_p_L21','rank_p_L42','rank_p_L252']"
   ]
  },
  {
   "cell_type": "code",
   "execution_count": 20,
   "metadata": {},
   "outputs": [
    {
     "data": {
      "text/plain": [
       "360"
      ]
     },
     "execution_count": 20,
     "metadata": {},
     "output_type": "execute_result"
    }
   ],
   "source": [
    "len(include_columns)"
   ]
  },
  {
   "cell_type": "code",
   "execution_count": 21,
   "metadata": {},
   "outputs": [],
   "source": [
    "dates = list(etf_data['Date'].unique())\n",
    "# dates[1671]"
   ]
  },
  {
   "cell_type": "code",
   "execution_count": 22,
   "metadata": {},
   "outputs": [
    {
     "name": "stdout",
     "output_type": "stream",
     "text": [
      "1638 2018-07-09\n"
     ]
    }
   ],
   "source": [
    "for i in range(0,1671):\n",
    "    if dates[i] == '2018-07-09':\n",
    "        print (i,dates[i])"
   ]
  },
  {
   "cell_type": "code",
   "execution_count": 23,
   "metadata": {},
   "outputs": [],
   "source": [
    "symbols = etf_list['Symbol'].unique()"
   ]
  },
  {
   "cell_type": "code",
   "execution_count": 24,
   "metadata": {},
   "outputs": [
    {
     "data": {
      "text/plain": [
       "153"
      ]
     },
     "execution_count": 24,
     "metadata": {},
     "output_type": "execute_result"
    }
   ],
   "source": [
    "len(symbols)"
   ]
  },
  {
   "cell_type": "code",
   "execution_count": 25,
   "metadata": {},
   "outputs": [],
   "source": [
    "#Each year has 252 trading dates.  Need two years to fully develop variables.\n",
    "dt1 = 504 #This is the first day that all variables are developed\n",
    "# dt1 = 504 + 21 + 273 #This is the first day that all variables are developed 2016-04-07\n",
    "# make all dates relative to dt1\n",
    "# for one year training - add 252\n",
    "# to evaluate for one month outside the training window - add 273\n",
    "# to predict for the first day outside of the evaluation window (have to lag 21) - add 294\n",
    "dt_end = (len(dates) - 273 - 21) - 1\n",
    "# dt2 = 1638 - 273 #restart for '2018-05-08'\n",
    "dt_end = dt1 + 1 #For testing on the first day only\n",
    "etf_predict_file = os.path.join(data_path,'etf_pred_random_forest_20180927b.csv')"
   ]
  },
  {
   "cell_type": "code",
   "execution_count": null,
   "metadata": {},
   "outputs": [],
   "source": [
    "#Run grid search with cross validation to select best parameters\n",
    "i = dt1\n",
    "x_train = etf_data.loc[((etf_data['Date']>=dates[i]) & (etf_data['Date']<dates[i+252])),include_columns] #train with 12 mos\n",
    "y_train = etf_data.loc[((etf_data['Date']>=dates[i]) & (etf_data['Date']<dates[i+252])),['target']] #train with 12 mos\n",
    "x_train_nmpy = x_train.as_matrix()\n",
    "y_train_nmpy = np.ravel(y_train.as_matrix())\n",
    "\n",
    "param_grid = { \n",
    "'n_estimators': [100,300,500,700,1000],\n",
    "'max_features': ['auto','log2',None],\n",
    "'max_depth' : [4,5,6,7,8,None],\n",
    "'criterion' :['gini','entropy']}\n",
    "\n",
    "rfc=RandomForestClassifier(n_jobs=32,random_state=54321)\n",
    "CV_rfc = GridSearchCV(estimator=rfc, param_grid=param_grid, cv= 5, n_jobs=32, verbose=1)\n",
    "CV_rfc.fit(x_train_nmpy, y_train_nmpy)\n",
    "\n",
    "#print(CV_rfc.best_params_)\n",
    "#{'criterion': 'gini', 'max_depth': 5, 'max_features': None, 'n_estimators': 700}\n"
   ]
  },
  {
   "cell_type": "code",
   "execution_count": 26,
   "metadata": {
    "scrolled": false
   },
   "outputs": [
    {
     "name": "stdout",
     "output_type": "stream",
     "text": [
      "Building model to predict for  2015-02-05\n",
      "Model Variable Importance Top 10:\n",
      "                   Feature  Importance\n",
      "0  ivv_w252_rank_p_L84_avg    0.119896\n",
      "1  ivv_w252_rank_v_L84_avg    0.112688\n",
      "2  ivv_w84_rank_p_L252_avg    0.043596\n",
      "3  ivv_w84_rank_v_L252_avg    0.042354\n",
      "4      w252_rank_v_L10_avg    0.035036\n",
      "5      w252_rank_p_L10_avg    0.034992\n",
      "6      w252_rank_p_L84_avg    0.026371\n",
      "7      w252_rank_v_L84_avg    0.022731\n",
      "8     w252_rank_p_L252_avg    0.022171\n",
      "9     w252_rank_v_L252_avg    0.021894\n",
      "*****************************\n",
      "roc_auc_score on training: 0.7013\n",
      "roc_auc_score on testing: 0.5922\n",
      "*****************************\n",
      "Confusion Matrix Threshold: 0.498736\n",
      "*****************************\n",
      "Model Eval Results:\n",
      "*****************************\n",
      "Confusion Matrix:\n",
      " [[103   3]\n",
      " [ 35  12]]\n",
      "Precision: 0.8\n",
      "Model Top Five Picks\n",
      " Avg rtn top 5: 0.034\n",
      "   true_value  pred_value  mkt_return   returns\n",
      "0         1.0    0.571996    0.010741  0.038518\n",
      "1         1.0    0.565181    0.010741  0.040056\n",
      "2         1.0    0.555773    0.010741  0.011038\n",
      "3         1.0    0.555551    0.010741  0.019917\n",
      "4         1.0    0.554275    0.010741  0.060291\n",
      "Model 2nd Five Picks\n",
      " Avg rtn 2nd 5: 0.0376\n",
      "   true_value  pred_value  mkt_return   returns\n",
      "5         0.0    0.552048    0.010741 -0.002112\n",
      "6         0.0    0.546727    0.010741  0.007185\n",
      "7         1.0    0.544478    0.010741  0.069374\n",
      "8         1.0    0.542754    0.010741  0.071770\n",
      "9         1.0    0.535298    0.010741  0.041793\n",
      "Model 3rd Five Picks\n",
      " Avg rtn 3rd 5: 0.0075\n",
      "    true_value  pred_value  mkt_return   returns\n",
      "10         1.0    0.527408    0.010741  0.012149\n",
      "11         1.0    0.506175    0.010741  0.010741\n",
      "12         0.0    0.505930    0.010741 -0.009574\n",
      "13         1.0    0.499094    0.010741  0.011972\n",
      "14         1.0    0.498736    0.010741  0.012201\n",
      "Model Bottom Five Picks\n",
      " Avg rtn bottom 5: 0.0175\n",
      "     true_value  pred_value  mkt_return   returns\n",
      "148         0.0    0.308528    0.010741  0.009796\n",
      "149         1.0    0.308528    0.010741  0.044255\n",
      "150         1.0    0.308235    0.010741  0.018562\n",
      "151         0.0    0.307690    0.010741  0.003184\n",
      "152         1.0    0.307690    0.010741  0.011473\n",
      "********************************************************\n"
     ]
    }
   ],
   "source": [
    "# for i in range(dt2,dt_end,21): #for restart\n",
    "for i in range(dt1,dt_end,21):\n",
    "    print(\"Building model to predict for \",dates[i+273])\n",
    "    x_train = etf_data.loc[((etf_data['Date']>=dates[i]) & (etf_data['Date']<dates[i+252])),include_columns] #train with 12 mos\n",
    "    y_train = etf_data.loc[((etf_data['Date']>=dates[i]) & (etf_data['Date']<dates[i+252])),['target']] #train with 12 mos\n",
    "\n",
    "#predict one day\n",
    "    x_test = etf_data.loc[(etf_data['Date']==dates[i+273]),include_columns] #predict one day-must be 21 days removed from training\n",
    "    y_test = etf_data.loc[(etf_data['Date']==dates[i+273]),['target']] #predict if etf >= market\n",
    "    returns = etf_data.loc[(etf_data['Date']==dates[i+273]),['delta_p_L-21']]\n",
    "    mkt_return = etf_data.loc[(etf_data['Date']==dates[i+273]),['ivv_delta_p_L-21']]\n",
    "    x_train_nmpy = x_train.as_matrix()\n",
    "    y_train_nmpy = np.ravel(y_train.as_matrix())\n",
    "#     x_eval_nmpy = x_eval.as_matrix()\n",
    "#     y_eval_nmpy = y_eval.as_matrix()\n",
    "    x_test_nmpy = x_test.as_matrix()\n",
    "    y_test_nmpy = np.ravel(y_test.as_matrix())\n",
    "    returns_nmpy = returns.as_matrix()\n",
    "    mkt_return_nmpy = mkt_return.as_matrix()\n",
    "    \n",
    "#     rf = RandomForestClassifier(**CV_rfc.best_params_,n_jobs=32,random_state=54321,verbose=1)\n",
    "\n",
    "    rf = RandomForestClassifier(n_estimators=700, n_jobs=32, max_depth=5, criterion='gini',\n",
    "                                verbose=0,max_features=None,random_state=54321)\n",
    "    rf.fit(x_train_nmpy, y_train_nmpy)\n",
    "    \n",
    "    y_pred_model = rf.predict_proba(x_test_nmpy)[:,1]\n",
    "    y_train_model = rf.predict(x_train_nmpy)\n",
    "    y_test_model = rf.predict(x_test_nmpy)\n",
    "    \n",
    "    feat_import = pd.DataFrame({'Feature':include_columns,'Importance': rf.feature_importances_})\n",
    "    feat_import.sort_values(by='Importance',inplace=True,ascending=False) \n",
    "    feat_import.reset_index(drop=True,inplace=True)\n",
    "\n",
    "    y_check = np.column_stack((y_test_nmpy, y_pred_model,mkt_return_nmpy,returns_nmpy))\n",
    "    y_check_df = pd.DataFrame(y_check,columns=['true_value','pred_value','mkt_return','returns'])\n",
    "    y_check_df.sort_values('pred_value',inplace=True,ascending=False)\n",
    "    y_check_df.reset_index(inplace=True,drop=True)\n",
    "    t_hold = y_check_df['pred_value'][14]\n",
    "    \n",
    "    print('Model Variable Importance Top 10:')\n",
    "    print(feat_import.iloc[0:10,])\n",
    "    print('*****************************')\n",
    "    print('roc_auc_score on training: {:.4f}'.format(roc_auc_score(y_train_nmpy,y_train_model)))\n",
    "    print('roc_auc_score on testing: {:.4f}'.format(roc_auc_score(y_test_nmpy,y_test_model)))\n",
    "    print('*****************************')\n",
    "    print('Confusion Matrix Threshold: {:.6f}'.format(t_hold))\n",
    "    print('*****************************')\n",
    "    print('Model Eval Results:')\n",
    "    print('*****************************')\n",
    "    confusion = confusion_matrix(y_test_nmpy, (y_pred_model>=t_hold).astype(int))\n",
    "#     fpr, tpr, thresholds = roc_curve(y_test_nmpy, (y_model_array>0.5).astype(int), pos_label=1)\n",
    "    precision = confusion[1,1]/(confusion[1,1]+confusion[0,1])\n",
    "    print('Confusion Matrix:\\n',confusion)\n",
    "    print('Precision:',round(precision,4))\n",
    "\n",
    "    print(\"Model Top Five Picks\")\n",
    "    print(\" Avg rtn top 5:\", round(y_check_df['returns'][0:5].mean(),4))\n",
    "    print(y_check_df.head(5))\n",
    "    print(\"Model 2nd Five Picks\")\n",
    "    print(\" Avg rtn 2nd 5:\", round(y_check_df['returns'][5:10].mean(),4))\n",
    "    print(y_check_df.iloc[5:10,])\n",
    "    print(\"Model 3rd Five Picks\")\n",
    "    print(\" Avg rtn 3rd 5:\", round(y_check_df['returns'][10:15].mean(),4))\n",
    "    print(y_check_df.iloc[10:15,])    \n",
    "    print(\"Model Bottom Five Picks\")\n",
    "    print(\" Avg rtn bottom 5:\", round(y_check_df['returns'][-5:].mean(),4))\n",
    "    print(y_check_df.tail(5))\n",
    "    print('********************************************************')\n",
    "    if i == dt1:\n",
    "        predict_data = etf_data.loc[(etf_data['Date']==dates[i+273]),['Date','sym','rank_p_L-21']]\n",
    "        predict_data['predict'] = y_pred_model\n",
    "        predict_data.to_csv(etf_predict_file)\n",
    "    else:\n",
    "        predict_data = etf_data.loc[(etf_data['Date']==dates[i+273]),['Date','sym','rank_p_L-21']]\n",
    "        predict_data['predict'] = y_pred_model\n",
    "        predict_data.to_csv(etf_predict_file,header=False,mode='a')"
   ]
  }
 ],
 "metadata": {
  "kernelspec": {
   "display_name": "Python 3",
   "language": "python",
   "name": "python3"
  },
  "language_info": {
   "codemirror_mode": {
    "name": "ipython",
    "version": 3
   },
   "file_extension": ".py",
   "mimetype": "text/x-python",
   "name": "python",
   "nbconvert_exporter": "python",
   "pygments_lexer": "ipython3",
   "version": "3.6.6"
  }
 },
 "nbformat": 4,
 "nbformat_minor": 2
}
